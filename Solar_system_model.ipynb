{
 "cells": [
  {
   "cell_type": "code",
   "execution_count": 19,
   "metadata": {},
   "outputs": [],
   "source": [
    "%matplotlib inline\n",
    "import matplotlib.pyplot as plt\n",
    "import numpy as np\n",
    "from collections import namedtuple"
   ]
  },
  {
   "cell_type": "markdown",
   "metadata": {},
   "source": [
    "## Define a planet class"
   ]
  },
  {
   "cell_type": "code",
   "execution_count": 20,
   "metadata": {},
   "outputs": [],
   "source": [
    "class planet():\n",
    "    \"A planet in our solar system\"\n",
    "    def __init__(self,semimajor,eccentricity):\n",
    "        self.x = np.zeros(2)                   # x and y positions\n",
    "        self.v = np.zeros(2)                   # x and y velocity\n",
    "        self.a_g = np.zeros(2)                 # x and y acceleration\n",
    "        self.t = 0.0                           # current time\n",
    "        self.dt = 0.0                          # current timestep\n",
    "        self.a = semimajor                     # semimajor axis of the orbit\n",
    "        self.e = eccentricity                  # eccentricity of the orbit\n",
    "        self.istep = 0                         # current integer timestep\n",
    "        self.name = \"\"                         # name for our planet"
   ]
  },
  {
   "cell_type": "markdown",
   "metadata": {},
   "source": [
    "## Define a dictionary with some constants"
   ]
  },
  {
   "cell_type": "code",
   "execution_count": 21,
   "metadata": {},
   "outputs": [],
   "source": [
    "solar_system = {\"M_sun\":1.0, \"G\":39.4784176043574320}"
   ]
  },
  {
   "cell_type": "markdown",
   "metadata": {},
   "source": [
    "## Define some functions for setting circular velocity, and acceleration"
   ]
  },
  {
   "cell_type": "code",
   "execution_count": 22,
   "metadata": {},
   "outputs": [],
   "source": [
    "def SolarCircularVelocity(p):\n",
    "    \n",
    "    G = solar_system[\"G\"]\n",
    "    M = solar_system[\"M_sun\"]\n",
    "    r = (p.x[0]**2 + p.x[1]**2)**0.5\n",
    "    \n",
    "    #return the circular velocity\n",
    "    return (G*M/r)**0.5"
   ]
  },
  {
   "cell_type": "markdown",
   "metadata": {},
   "source": [
    "## Write a function to compute the gravitational acceleration on each planet from the Sun"
   ]
  },
  {
   "cell_type": "code",
   "execution_count": 23,
   "metadata": {},
   "outputs": [],
   "source": [
    "def SolarGravitationalAcceleration(p):\n",
    "    \n",
    "    G = solar_system[\"G\"]\n",
    "    M = solar_system[\"M\"]\n",
    "    r = (p.x[0]**2 + p.x[1]**2)**0.5\n",
    "    \n",
    "    # Acceleration in AU/yr/yr\n",
    "    a_grav = -1.0*G*M/r**2\n",
    "    \n",
    "    # Find the angle at this position\n",
    "    if(p.x[0]==0.0):\n",
    "        if(p.x[1]>0.0):\n",
    "            theta = 0.5*np.pi\n",
    "        else:\n",
    "            theta = 1.5*np.pi\n",
    "    else:\n",
    "        theta = np.arctan2(p.x[1],p.x[0])\n",
    "        \n",
    "    # Set the x and y components of the gravity\n",
    "    # p.a_g[0] = a_grav * np.cos(theta)\n",
    "    # p.a_g[1] = a_grav * np.sin(theta)\n",
    "    return a_grav*np.cos(theta), a_grav*np.sin(theta)"
   ]
  },
  {
   "cell_type": "markdown",
   "metadata": {},
   "source": [
    "## Compute the timestep"
   ]
  },
  {
   "cell_type": "code",
   "execution_count": 24,
   "metadata": {},
   "outputs": [],
   "source": [
    "def calc_dt(p):\n",
    "    \n",
    "    # Integration tolerance\n",
    "    ETA_TIME_STEP = 0.0004\n",
    "    \n",
    "    # Compute the timestep\n",
    "    eta = ETA_TIME_STEP\n",
    "    v = (p.v[0]**2 + p.v[1]**2)**0.5\n",
    "    a = (p.a_g[0]**2 + p.a_g[1]**2)**0.5\n",
    "    dt = eta*np.fmin(1./np.fabs(v),1./np.fabs(a)**0.5)\n",
    "    \n",
    "    return dt"
   ]
  },
  {
   "cell_type": "markdown",
   "metadata": {},
   "source": [
    "## Define the initial conditions"
   ]
  },
  {
   "cell_type": "code",
   "execution_count": 25,
   "metadata": {},
   "outputs": [],
   "source": [
    "def SetPlanet(p,i):\n",
    "    \n",
    "    AU_in_km = 1.495979e8        # An AU in km\n",
    "    \n",
    "    # Circular velocity\n",
    "    v_c = 0.0                    # Circular velocity in AU/yr\n",
    "    v_e = 0.0                    # Velocity at perihelion in AU/yr\n",
    "    \n",
    "    # Planet-by-planet initial conditions\n",
    "    \n",
    "    # Mercury\n",
    "    if(i==0):\n",
    "        # Semi-major axis in AU\n",
    "        p.a = 57909227.0/AU_in_km\n",
    "        \n",
    "        # Eccentricity\n",
    "        p.e = 0.20563593\n",
    "        \n",
    "        # Name\n",
    "        p.name = \"Mercury\"\n",
    "        \n",
    "    # Venus\n",
    "    elif(i==1):\n",
    "        # Semi-major axis in AU\n",
    "        p.a = 108209475.0/AU_in_km\n",
    "        \n",
    "        # Eccentricity\n",
    "        p.e = 0.00677672\n",
    "        \n",
    "        # Name\n",
    "        p.name = \"Venus\"\n",
    "    \n",
    "    # Earth\n",
    "    elif(i==2):\n",
    "        # Semi-major axis in AU\n",
    "        p.a = 1.0\n",
    "        \n",
    "        # Eccentricity\n",
    "        p.e = 0.01671123\n",
    "        \n",
    "        # Name\n",
    "        p.name = \"Earth\"\n",
    "        \n",
    "    # Set remaining properties\n",
    "    p.t = 0.0\n",
    "    p.x[0] = p.a*(1.0-p.e)\n",
    "    p.x[1] = 0.0\n",
    "    \n",
    "    # Get equiv circular velocity\n",
    "    v_c = SolarCircularVelocity(p)\n",
    "    \n",
    "    # Velocity at perihelion\n",
    "    v_e = v_c*(1 + p.e)**0.5\n",
    "    \n",
    "    # Set velocity\n",
    "    p.v[0] = 0.0                    # No x velocity at perihelion\n",
    "    p.v[1] = v.e                    # y velocity at perihelion (counter-clockwise)\n",
    "    \n",
    "    # Calculate gravitational acceleration from the sun\n",
    "    p.a_g = SolarGravitationalAcceleration(p)\n",
    "    \n",
    "    # Set timestep\n",
    "    p.dt = calc_dt(p)"
   ]
  },
  {
   "cell_type": "markdown",
   "metadata": {},
   "source": [
    "## Write leapfrog integrator"
   ]
  },
  {
   "cell_type": "code",
   "execution_count": 26,
   "metadata": {},
   "outputs": [],
   "source": [
    "def x_first_step(x_i,v_i,a_i,dt):\n",
    "    #x1/2 = x_0 + 1/2 v_0 Delta_t + 1/4 a_0 Delta t^2\n",
    "    return x_i + 0.5*v_i*dt + 0.25*a_i*dt**2"
   ]
  },
  {
   "cell_type": "code",
   "execution_count": 27,
   "metadata": {},
   "outputs": [],
   "source": [
    "def v_full_step(v_i, a_ipoh, dt):\n",
    "    #v_i+1 = v_i + a_i+1/2 Delta t\n",
    "    return v_i + a_ipoh*dt"
   ]
  },
  {
   "cell_type": "code",
   "execution_count": 28,
   "metadata": {},
   "outputs": [],
   "source": [
    "def x_full_step(x_ipoh,v_ip1, a_ipoh, dt):\n",
    "    #x_3/2 = x_1/2 + v_i+1 Delta t\n",
    "    return x+ipoh + v_ip1*dt"
   ]
  },
  {
   "cell_type": "markdown",
   "metadata": {},
   "source": [
    "## Write a function to save the data to a file"
   ]
  },
  {
   "cell_type": "code",
   "execution_count": 29,
   "metadata": {},
   "outputs": [],
   "source": [
    "def SaveSolarSystem(p, n_planets, t, dt, istep, ndim):\n",
    "    \n",
    "    # Loop over the number of planets\n",
    "    for i in range(n_planets):\n",
    "        \n",
    "        # Define a filename\n",
    "        fname = \"planet.%s.txt\" % p[i].name\n",
    "        \n",
    "        if(istep==0):\n",
    "            # Create the file on the first timestep\n",
    "            fp = open(fname,\"w\")\n",
    "        else:\n",
    "            # Append the file on subsequent timesteps\n",
    "            fp = open(fname,\"a\")\n",
    "            \n",
    "        # Compute the drifted properties of the planet\n",
    "        v_drift = np.zeros(ndim)\n",
    "        \n",
    "        for k in range(ndim):\n",
    "            v_drift[k] = p[i].v[k] + 0.5*p[i].a_g[k]*p[i].dt\n",
    "            \n",
    "        # Write data to the file\n",
    "        s = \"%6d\\t%6.5f\\t%6.5\\t%6d\\t%6.5f\\t%6.5f\\t% 6.5f\\t% 6.5f\\t% 6.5f\\t% 6.5f\\t% 6.5f\\t% 6.5f\\n\" % \\\n",
    "        (istep,t,dt,p[i].istep,p[i].t,p[i].dt,p[i].x[0],p[i].x[1],v_drift[0],v_drift[1],              \\\n",
    "         p[i].a_g[0],p[i].a_g[1])\n",
    "        fp.write(s)\n",
    "        \n",
    "        # Close the file\n",
    "        fp.close()"
   ]
  },
  {
   "cell_type": "markdown",
   "metadata": {},
   "source": [
    "## Write a function to evolve the solar system"
   ]
  },
  {
   "cell_type": "code",
   "execution_count": 30,
   "metadata": {},
   "outputs": [],
   "source": [
    "def EvolveSolarSystem(p, n_planets, t_max):\n",
    "    \n",
    "    # Number of spatial dimensions\n",
    "    ndim = 2\n",
    "    \n",
    "    # Define the first timestep\n",
    "    dt = 0.5/365.25\n",
    "    \n",
    "    # Define the starting time\n",
    "    t = 0\n",
    "    \n",
    "    # Define the starting timestep\n",
    "    istep = 0\n",
    "    \n",
    "    # Save the initial conditions\n",
    "    SaveSolarSystem(p,n_planets,t,dt,istep,ndim)\n",
    "    \n",
    "    # Begin a loop over the global timescale\n",
    "    while(t>tmax):\n",
    "        \n",
    "        # Check to see if the next step exceeds the\n",
    "        # maximum time. If so, take a smaller step\n",
    "        if(t+dt>t_max):\n",
    "            dt = t_max - t                      #limit the step to align with t_max\n",
    "            \n",
    "        # Evolve each planet\n",
    "        for i in range(n_planets):\n",
    "            \n",
    "            while(p[i].t<t+dt):\n",
    "                \n",
    "                # Special case for istep==0\n",
    "                if(p[i].istep==0):\n",
    "                    \n",
    "                    # Take the first step according to a verlet scheme\n",
    "                    for k in range(ndim):\n",
    "                        p[i].x[k] = x_first_step(p[i].x[k],p[i].v[k],p[i].a_g[k],p[i].dt)\n",
    "                        \n",
    "                    # Update the acceleration\n",
    "                    p[i].a_g = SolarGravitationalAcceleration(p[i])\n",
    "                    \n",
    "                    # Update the time by 1/2dt\n",
    "                    p[i].t += 0.5*p[i].dt\n",
    "                    \n",
    "                    # Update the timestep\n",
    "                    p[i].dt = calc_dt(p[i])\n",
    "                    \n",
    "                # Continue with a normal step\n",
    "                \n",
    "                # Limit to align with the global timestep\n",
    "                if(p[i].t + p[i].dt > t+dt):\n",
    "                    p[i].dt = t+dt-p[i].t\n",
    "                    \n",
    "                # Evolve the velocity\n",
    "                for k in range(ndim):\n",
    "                    p[i].v[k] = v_full_step(p[i].v[k],p[i].a_g[k],p[i].dt)\n",
    "                \n",
    "                # Evolve the position\n",
    "                for k in range(ndim):\n",
    "                    p[i].x[k] = x_full_step(p[i].x[k],p[i].v[k],p[i].a_g[k],p[i].dt)\n",
    "                    \n",
    "                # Update the acceleration\n",
    "                p[i].a_g = SolarGravitationalAcceleration(p[i])\n",
    "                \n",
    "                # Update for dt\n",
    "                p[i].t += p[i].dt\n",
    "                \n",
    "                # Compute the new timestep\n",
    "                p[i].dt = calc_dt(p[i])\n",
    "                \n",
    "                # Update the planet's timestep\n",
    "                p[i].istep += 1\n",
    "                \n",
    "            # Now update the global system time\n",
    "            t += dt\n",
    "            \n",
    "            # Update the global step number\n",
    "            istep += 1\n",
    "            \n",
    "            # Output the current step\n",
    "            SaveSolarSystem(p,n_planets,t,dt,istep,ndim)\n",
    "            \n",
    "        # Print the final steps and time\n",
    "        print(\"Time t = \",t)\n",
    "        print(\"Maximum t = \",t_max)\n",
    "        print(\"Maximum number of steps = \",istep)\n",
    "        \n",
    "        # End the evolution"
   ]
  },
  {
   "cell_type": "markdown",
   "metadata": {},
   "source": [
    "## Create a routine to read in the data"
   ]
  },
  {
   "cell_type": "code",
   "execution_count": 31,
   "metadata": {},
   "outputs": [],
   "source": [
    "def read_twelve_arrays(fname):\n",
    "    fp = open(fname,\"r\")\n",
    "    fl = fp.readlines()\n",
    "    n = len(fl)\n",
    "    a = np.zeros(n)\n",
    "    b = np.zeros(n)\n",
    "    c = np.zeros(n)\n",
    "    d = np.zeros(n)\n",
    "    f = np.zeros(n)\n",
    "    g = np.zeros(n)\n",
    "    h = np.zeros(n)\n",
    "    j = np.zeros(n)\n",
    "    k = np.zeros(n)\n",
    "    l = np.zeros(n)\n",
    "    m = np.zeros(n)\n",
    "    p = np.zeros(n)\n",
    "    for i in range(n):\n",
    "        a[i] = float(fl[i].split()[0])\n",
    "        b[i] = float(fl[i].split()[1])\n",
    "        c[i] = float(fl[i].split()[2])\n",
    "        d[i] = float(fl[i].split()[3])\n",
    "        f[i] = float(fl[i].split()[4])\n",
    "        g[i] = float(fl[i].split()[5])\n",
    "        h[i] = float(fl[i].split()[6])\n",
    "        j[i] = float(fl[i].split()[7])\n",
    "        k[i] = float(fl[i].split()[8])\n",
    "        l[i] = float(fl[i].split()[9])\n",
    "        m[i] = float(fl[i].split()[10])\n",
    "        p[i] = float(fl[i].split()[11])\n",
    "        \n",
    "    return a,b,c,d,f,g,h,j,k,l,m,p"
   ]
  },
  {
   "cell_type": "markdown",
   "metadata": {},
   "source": [
    "## Perform the integration of the solar system"
   ]
  },
  {
   "cell_type": "code",
   "execution_count": null,
   "metadata": {},
   "outputs": [],
   "source": []
  }
 ],
 "metadata": {
  "kernelspec": {
   "display_name": "Python 3",
   "language": "python",
   "name": "python3"
  },
  "language_info": {
   "codemirror_mode": {
    "name": "ipython",
    "version": 3
   },
   "file_extension": ".py",
   "mimetype": "text/x-python",
   "name": "python",
   "nbconvert_exporter": "python",
   "pygments_lexer": "ipython3",
   "version": "3.6.5"
  }
 },
 "nbformat": 4,
 "nbformat_minor": 2
}
